{
 "cells": [
  {
   "cell_type": "code",
   "execution_count": 2,
   "metadata": {
    "collapsed": true
   },
   "outputs": [],
   "source": [
    "import pandas as pd\n",
    "import numpy as np\n",
    "import matplotlib.pyplot as plt\n",
    "import gzip\n"
   ]
  },
  {
   "cell_type": "code",
   "execution_count": 16,
   "metadata": {
    "collapsed": true
   },
   "outputs": [],
   "source": [
    "file = open('amazon-meta.txt', encoding ='latin-1') \n",
    "lines = file.read().split('\\n\\n')"
   ]
  },
  {
   "cell_type": "code",
   "execution_count": 18,
   "metadata": {},
   "outputs": [
    {
     "data": {
      "text/plain": [
       "['Id:   1',\n",
       " 'ASIN: 0827229534',\n",
       " '  title: Patterns of Preaching: A Sermon Sampler',\n",
       " '  group: Book',\n",
       " '  salesrank: 396585',\n",
       " '  similar: 5  0804215715  156101074X  0687023955  0687074231  082721619X',\n",
       " '  categories: 2',\n",
       " '   |Books[283155]|Subjects[1000]|Religion & Spirituality[22]|Christianity[12290]|Clergy[12360]|Preaching[12368]',\n",
       " '   |Books[283155]|Subjects[1000]|Religion & Spirituality[22]|Christianity[12290]|Clergy[12360]|Sermons[12370]',\n",
       " '  reviews: total: 2  downloaded: 2  avg rating: 5',\n",
       " '    2000-7-28  cutomer: A2JW67OY8U6HHK  rating: 5  votes:  10  helpful:   9',\n",
       " '    2003-12-14  cutomer: A2VE83MZF98ITY  rating: 5  votes:   6  helpful:   5']"
      ]
     },
     "execution_count": 18,
     "metadata": {},
     "output_type": "execute_result"
    }
   ],
   "source": [
    "# to see the data\n",
    "lines[2].split('\\n')"
   ]
  },
  {
   "cell_type": "code",
   "execution_count": 7,
   "metadata": {},
   "outputs": [
    {
     "data": {
      "text/html": [
       "<div>\n",
       "<style>\n",
       "    .dataframe thead tr:only-child th {\n",
       "        text-align: right;\n",
       "    }\n",
       "\n",
       "    .dataframe thead th {\n",
       "        text-align: left;\n",
       "    }\n",
       "\n",
       "    .dataframe tbody tr th {\n",
       "        vertical-align: top;\n",
       "    }\n",
       "</style>\n",
       "<table border=\"1\" class=\"dataframe\">\n",
       "  <thead>\n",
       "    <tr style=\"text-align: right;\">\n",
       "      <th></th>\n",
       "      <th>ASIN</th>\n",
       "      <th>Id</th>\n",
       "      <th>categories</th>\n",
       "      <th>group</th>\n",
       "      <th>reviews</th>\n",
       "      <th>salesrank</th>\n",
       "      <th>similar</th>\n",
       "      <th>title</th>\n",
       "    </tr>\n",
       "  </thead>\n",
       "  <tbody>\n",
       "    <tr>\n",
       "      <th>0</th>\n",
       "      <td>0827229534</td>\n",
       "      <td>1</td>\n",
       "      <td>[|Books[283155]|Subjects[1000]|Religion &amp; Spir...</td>\n",
       "      <td>Book</td>\n",
       "      <td>[2000-7-28  cutomer: A2JW67OY8U6HHK  rating: 5...</td>\n",
       "      <td>396585</td>\n",
       "      <td>5  0804215715  156101074X  0687023955  0687074...</td>\n",
       "      <td>Patterns of Preaching</td>\n",
       "    </tr>\n",
       "    <tr>\n",
       "      <th>1</th>\n",
       "      <td>0738700797</td>\n",
       "      <td>2</td>\n",
       "      <td>[|Books[283155]|Subjects[1000]|Religion &amp; Spir...</td>\n",
       "      <td>Book</td>\n",
       "      <td>[2001-12-16  cutomer: A11NCO6YTE4BTJ  rating: ...</td>\n",
       "      <td>168596</td>\n",
       "      <td>5  0738700827  1567184960  1567182836  0738700...</td>\n",
       "      <td>Candlemas</td>\n",
       "    </tr>\n",
       "    <tr>\n",
       "      <th>2</th>\n",
       "      <td>0486287785</td>\n",
       "      <td>3</td>\n",
       "      <td>[|Books[283155]|Subjects[1000]|Home &amp; Garden[4...</td>\n",
       "      <td>Book</td>\n",
       "      <td>[2003-7-10  cutomer: A3IDGASRQAW8B2  rating: 5...</td>\n",
       "      <td>1270652</td>\n",
       "      <td>0</td>\n",
       "      <td>World War II Allied Fighter Planes Trading Cards</td>\n",
       "    </tr>\n",
       "    <tr>\n",
       "      <th>3</th>\n",
       "      <td>0842328327</td>\n",
       "      <td>4</td>\n",
       "      <td>[|Books[283155]|Subjects[1000]|Religion &amp; Spir...</td>\n",
       "      <td>Book</td>\n",
       "      <td>[2004-8-19  cutomer: A2591BUPXCS705  rating: 4...</td>\n",
       "      <td>631289</td>\n",
       "      <td>5  0842328130  0830818138  0842330313  0842328...</td>\n",
       "      <td>Life Application Bible Commentary</td>\n",
       "    </tr>\n",
       "    <tr>\n",
       "      <th>4</th>\n",
       "      <td>1577943082</td>\n",
       "      <td>5</td>\n",
       "      <td>[|Books[283155]|Subjects[1000]|Religion &amp; Spir...</td>\n",
       "      <td>Book</td>\n",
       "      <td>0</td>\n",
       "      <td>455160</td>\n",
       "      <td>5  157794349X  0892749504  1577941829  0892749...</td>\n",
       "      <td>Prayers That Avail Much for Business</td>\n",
       "    </tr>\n",
       "  </tbody>\n",
       "</table>\n",
       "</div>"
      ],
      "text/plain": [
       "         ASIN Id                                         categories group  \\\n",
       "0  0827229534  1  [|Books[283155]|Subjects[1000]|Religion & Spir...  Book   \n",
       "1  0738700797  2  [|Books[283155]|Subjects[1000]|Religion & Spir...  Book   \n",
       "2  0486287785  3  [|Books[283155]|Subjects[1000]|Home & Garden[4...  Book   \n",
       "3  0842328327  4  [|Books[283155]|Subjects[1000]|Religion & Spir...  Book   \n",
       "4  1577943082  5  [|Books[283155]|Subjects[1000]|Religion & Spir...  Book   \n",
       "\n",
       "                                             reviews salesrank  \\\n",
       "0  [2000-7-28  cutomer: A2JW67OY8U6HHK  rating: 5...    396585   \n",
       "1  [2001-12-16  cutomer: A11NCO6YTE4BTJ  rating: ...    168596   \n",
       "2  [2003-7-10  cutomer: A3IDGASRQAW8B2  rating: 5...   1270652   \n",
       "3  [2004-8-19  cutomer: A2591BUPXCS705  rating: 4...    631289   \n",
       "4                                                  0    455160   \n",
       "\n",
       "                                             similar  \\\n",
       "0  5  0804215715  156101074X  0687023955  0687074...   \n",
       "1  5  0738700827  1567184960  1567182836  0738700...   \n",
       "2                                                  0   \n",
       "3  5  0842328130  0830818138  0842330313  0842328...   \n",
       "4  5  157794349X  0892749504  1577941829  0892749...   \n",
       "\n",
       "                                              title  \n",
       "0                             Patterns of Preaching  \n",
       "1                                         Candlemas  \n",
       "2  World War II Allied Fighter Planes Trading Cards  \n",
       "3                 Life Application Bible Commentary  \n",
       "4              Prayers That Avail Much for Business  "
      ]
     },
     "execution_count": 7,
     "metadata": {},
     "output_type": "execute_result"
    }
   ],
   "source": [
    "#converting it into a dictionary\n",
    "d = {'Id':[], 'ASIN':[], 'title':[], 'group':[], 'salesrank':[], 'similar':[], 'categories':[], 'reviews':[]}\n",
    "\n",
    "def split_line(line):\n",
    "    \"\"\"\n",
    "    Helper function to split line on colon and return name and value.\n",
    "    \"\"\"\n",
    "    name = line.split(': ')[0].strip()\n",
    "    \n",
    "    #Check if name is in the keys of the master dictionary\n",
    "    if name not in d.keys():\n",
    "        return 0\n",
    "    try:\n",
    "        value = line.split(': ')[1:len(line.split(': '))]      \n",
    "    #IndexError if splitting on line like \"discontinued product\"\n",
    "    except IndexError:\n",
    "        return 0\n",
    "    return (name, value)  \n",
    "\n",
    "def update_master_dict(line_dict):\n",
    "    \"\"\"\n",
    "    Helper function to update master dictionary with a completed row.\n",
    "    \"\"\"\n",
    "    for key in d.keys():\n",
    "        d[key].append(line_dict[key])\n",
    "        \n",
    "status = 0\n",
    "id_dict = {}\n",
    "\n",
    "with open('amazon-meta.txt', encoding ='latin-1') as f:\n",
    "    for line in f.read().splitlines():\n",
    "        #line = line.decode(\"latin-1\")\n",
    "        \n",
    "        #If name, value pair returned and status is not looking for multi-lines\n",
    "        if split_line(line) != 0 and status == 0:\n",
    "            (name, value) = split_line(line)\n",
    "            if name == 'Id':\n",
    "                #Initialize row dictionary\n",
    "                id_dict = {name: value[0].strip()} \n",
    "            if 'categories' in name:\n",
    "                #Determine number of following rows to include\n",
    "                rows = int(value[0])\n",
    "                if rows > 0:\n",
    "                    (i, status, compiled_rows) = (0, 1, [])\n",
    "                else:\n",
    "                    #If no categories returned, set value to 0\n",
    "                    id_dict[name] = 0  \n",
    "            if 'reviews' in name:\n",
    "                #Determine number of following rows to include\n",
    "                rows = int(value[2].split()[0])\n",
    "                if rows > 0:\n",
    "                    (i, status, compiled_rows) = (0, 1, [])\n",
    "                else:\n",
    "                    #If no categories returned, set value to 0\n",
    "                    id_dict[name] = 0 \n",
    "            else:\n",
    "                #If any other column besides reviews, categories or ID, just add value\n",
    "                id_dict[name] = value[0].strip()\n",
    "                \n",
    "        #If collecting multi-lines\n",
    "        elif status == 1:\n",
    "            compiled_rows.append(line.strip())\n",
    "            i += 1\n",
    "            #If collected all lines to match number of rows, add lines as value and reset status\n",
    "            if i == rows:\n",
    "                id_dict[name] = compiled_rows\n",
    "                status = 0 \n",
    "        else:\n",
    "            #If reached end of row, reset status to looking for next ID\n",
    "            status = 0\n",
    "            \n",
    "            #If entire row collected, add to master dictionary\n",
    "            if len(id_dict) == len(d):\n",
    "                update_master_dict(id_dict)\n",
    "            id_dict = {}\n",
    "\n",
    "#Create dataframe from master dictionary          \n",
    "df = pd.DataFrame.from_dict(d) \n",
    "df.head()"
   ]
  },
  {
   "cell_type": "markdown",
   "metadata": {},
   "source": [
    "# Algorithm Thinking"
   ]
  },
  {
   "cell_type": "markdown",
   "metadata": {},
   "source": [
    "For the categorization, one need to build the algorithm from scratch and carefully avoids the overlaping, In case of overlaping\n",
    "there should not be much redundancy."
   ]
  },
  {
   "cell_type": "markdown",
   "metadata": {},
   "source": [
    "# Product Thinking"
   ]
  },
  {
   "cell_type": "markdown",
   "metadata": {},
   "source": [
    "1) Yes, it is a good idea to show the hierarchy for items, it will help the consumer look for products easily.   \n",
    "      \n",
    "2) Yes, it is good to show the simiar items because, consumers will have more options to purchase similar products. It is also \n",
    "a good way to do the marketing.\n",
    "\n",
    "3)Yes, showing the reviews and ratings will give consumers full confidence while making a purchase, if reviews and ratings are \n",
    "missing, the consumer might be skeptical about making a purchase. So it is better to provide the ratings and reviews.     \n",
    "    \n",
    "4) We can establish all of the above by doing an A/B testing. It will validate the usage."
   ]
  },
  {
   "cell_type": "code",
   "execution_count": null,
   "metadata": {
    "collapsed": true
   },
   "outputs": [],
   "source": []
  }
 ],
 "metadata": {
  "kernelspec": {
   "display_name": "Python 3",
   "language": "python",
   "name": "python3"
  },
  "language_info": {
   "codemirror_mode": {
    "name": "ipython",
    "version": 3
   },
   "file_extension": ".py",
   "mimetype": "text/x-python",
   "name": "python",
   "nbconvert_exporter": "python",
   "pygments_lexer": "ipython3",
   "version": "3.5.3"
  }
 },
 "nbformat": 4,
 "nbformat_minor": 2
}
