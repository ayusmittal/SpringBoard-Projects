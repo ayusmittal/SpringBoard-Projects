{
 "cells": [
  {
   "cell_type": "code",
   "execution_count": 323,
   "metadata": {},
   "outputs": [],
   "source": [
    "import pandas as pd"
   ]
  },
  {
   "cell_type": "code",
   "execution_count": 324,
   "metadata": {},
   "outputs": [
    {
     "data": {
      "text/html": [
       "<div>\n",
       "<style>\n",
       "    .dataframe thead tr:only-child th {\n",
       "        text-align: right;\n",
       "    }\n",
       "\n",
       "    .dataframe thead th {\n",
       "        text-align: left;\n",
       "    }\n",
       "\n",
       "    .dataframe tbody tr th {\n",
       "        vertical-align: top;\n",
       "    }\n",
       "</style>\n",
       "<table border=\"1\" class=\"dataframe\">\n",
       "  <thead>\n",
       "    <tr style=\"text-align: right;\">\n",
       "      <th></th>\n",
       "      <th>time_stamp</th>\n",
       "      <th>user_id</th>\n",
       "      <th>visited</th>\n",
       "    </tr>\n",
       "  </thead>\n",
       "  <tbody>\n",
       "    <tr>\n",
       "      <th>0</th>\n",
       "      <td>2014-04-22 03:53:30</td>\n",
       "      <td>1</td>\n",
       "      <td>1</td>\n",
       "    </tr>\n",
       "    <tr>\n",
       "      <th>1</th>\n",
       "      <td>2013-11-15 03:45:04</td>\n",
       "      <td>2</td>\n",
       "      <td>1</td>\n",
       "    </tr>\n",
       "    <tr>\n",
       "      <th>2</th>\n",
       "      <td>2013-11-29 03:45:04</td>\n",
       "      <td>2</td>\n",
       "      <td>1</td>\n",
       "    </tr>\n",
       "    <tr>\n",
       "      <th>3</th>\n",
       "      <td>2013-12-09 03:45:04</td>\n",
       "      <td>2</td>\n",
       "      <td>1</td>\n",
       "    </tr>\n",
       "    <tr>\n",
       "      <th>4</th>\n",
       "      <td>2013-12-25 03:45:04</td>\n",
       "      <td>2</td>\n",
       "      <td>1</td>\n",
       "    </tr>\n",
       "  </tbody>\n",
       "</table>\n",
       "</div>"
      ],
      "text/plain": [
       "            time_stamp  user_id  visited\n",
       "0  2014-04-22 03:53:30        1        1\n",
       "1  2013-11-15 03:45:04        2        1\n",
       "2  2013-11-29 03:45:04        2        1\n",
       "3  2013-12-09 03:45:04        2        1\n",
       "4  2013-12-25 03:45:04        2        1"
      ]
     },
     "execution_count": 324,
     "metadata": {},
     "output_type": "execute_result"
    }
   ],
   "source": [
    "df1 = pd.read_csv('./takehome_user_engagement.csv')\n",
    "df1.head()\n"
   ]
  },
  {
   "cell_type": "code",
   "execution_count": 325,
   "metadata": {},
   "outputs": [
    {
     "data": {
      "text/html": [
       "<div>\n",
       "<style>\n",
       "    .dataframe thead tr:only-child th {\n",
       "        text-align: right;\n",
       "    }\n",
       "\n",
       "    .dataframe thead th {\n",
       "        text-align: left;\n",
       "    }\n",
       "\n",
       "    .dataframe tbody tr th {\n",
       "        vertical-align: top;\n",
       "    }\n",
       "</style>\n",
       "<table border=\"1\" class=\"dataframe\">\n",
       "  <thead>\n",
       "    <tr style=\"text-align: right;\">\n",
       "      <th></th>\n",
       "      <th>object_id</th>\n",
       "      <th>creation_time</th>\n",
       "      <th>name</th>\n",
       "      <th>email</th>\n",
       "      <th>creation_source</th>\n",
       "      <th>last_session_creation_time</th>\n",
       "      <th>opted_in_to_mailing_list</th>\n",
       "      <th>enabled_for_marketing_drip</th>\n",
       "      <th>org_id</th>\n",
       "      <th>invited_by_user_id</th>\n",
       "    </tr>\n",
       "  </thead>\n",
       "  <tbody>\n",
       "    <tr>\n",
       "      <th>0</th>\n",
       "      <td>1</td>\n",
       "      <td>2014-04-22 03:53:30</td>\n",
       "      <td>Clausen August</td>\n",
       "      <td>AugustCClausen@yahoo.com</td>\n",
       "      <td>GUEST_INVITE</td>\n",
       "      <td>1.398139e+09</td>\n",
       "      <td>1</td>\n",
       "      <td>0</td>\n",
       "      <td>11</td>\n",
       "      <td>10803.0</td>\n",
       "    </tr>\n",
       "    <tr>\n",
       "      <th>1</th>\n",
       "      <td>2</td>\n",
       "      <td>2013-11-15 03:45:04</td>\n",
       "      <td>Poole Matthew</td>\n",
       "      <td>MatthewPoole@gustr.com</td>\n",
       "      <td>ORG_INVITE</td>\n",
       "      <td>1.396238e+09</td>\n",
       "      <td>0</td>\n",
       "      <td>0</td>\n",
       "      <td>1</td>\n",
       "      <td>316.0</td>\n",
       "    </tr>\n",
       "    <tr>\n",
       "      <th>2</th>\n",
       "      <td>3</td>\n",
       "      <td>2013-03-19 23:14:52</td>\n",
       "      <td>Bottrill Mitchell</td>\n",
       "      <td>MitchellBottrill@gustr.com</td>\n",
       "      <td>ORG_INVITE</td>\n",
       "      <td>1.363735e+09</td>\n",
       "      <td>0</td>\n",
       "      <td>0</td>\n",
       "      <td>94</td>\n",
       "      <td>1525.0</td>\n",
       "    </tr>\n",
       "    <tr>\n",
       "      <th>3</th>\n",
       "      <td>4</td>\n",
       "      <td>2013-05-21 08:09:28</td>\n",
       "      <td>Clausen Nicklas</td>\n",
       "      <td>NicklasSClausen@yahoo.com</td>\n",
       "      <td>GUEST_INVITE</td>\n",
       "      <td>1.369210e+09</td>\n",
       "      <td>0</td>\n",
       "      <td>0</td>\n",
       "      <td>1</td>\n",
       "      <td>5151.0</td>\n",
       "    </tr>\n",
       "    <tr>\n",
       "      <th>4</th>\n",
       "      <td>5</td>\n",
       "      <td>2013-01-17 10:14:20</td>\n",
       "      <td>Raw Grace</td>\n",
       "      <td>GraceRaw@yahoo.com</td>\n",
       "      <td>GUEST_INVITE</td>\n",
       "      <td>1.358850e+09</td>\n",
       "      <td>0</td>\n",
       "      <td>0</td>\n",
       "      <td>193</td>\n",
       "      <td>5240.0</td>\n",
       "    </tr>\n",
       "  </tbody>\n",
       "</table>\n",
       "</div>"
      ],
      "text/plain": [
       "   object_id        creation_time               name  \\\n",
       "0          1  2014-04-22 03:53:30     Clausen August   \n",
       "1          2  2013-11-15 03:45:04      Poole Matthew   \n",
       "2          3  2013-03-19 23:14:52  Bottrill Mitchell   \n",
       "3          4  2013-05-21 08:09:28    Clausen Nicklas   \n",
       "4          5  2013-01-17 10:14:20          Raw Grace   \n",
       "\n",
       "                        email creation_source  last_session_creation_time  \\\n",
       "0    AugustCClausen@yahoo.com    GUEST_INVITE                1.398139e+09   \n",
       "1      MatthewPoole@gustr.com      ORG_INVITE                1.396238e+09   \n",
       "2  MitchellBottrill@gustr.com      ORG_INVITE                1.363735e+09   \n",
       "3   NicklasSClausen@yahoo.com    GUEST_INVITE                1.369210e+09   \n",
       "4          GraceRaw@yahoo.com    GUEST_INVITE                1.358850e+09   \n",
       "\n",
       "   opted_in_to_mailing_list  enabled_for_marketing_drip  org_id  \\\n",
       "0                         1                           0      11   \n",
       "1                         0                           0       1   \n",
       "2                         0                           0      94   \n",
       "3                         0                           0       1   \n",
       "4                         0                           0     193   \n",
       "\n",
       "   invited_by_user_id  \n",
       "0             10803.0  \n",
       "1               316.0  \n",
       "2              1525.0  \n",
       "3              5151.0  \n",
       "4              5240.0  "
      ]
     },
     "execution_count": 325,
     "metadata": {},
     "output_type": "execute_result"
    }
   ],
   "source": [
    "df2 = pd.read_csv('./takehome_users.csv', encoding = 'latin1')\n",
    "df2.head()"
   ]
  },
  {
   "cell_type": "code",
   "execution_count": 326,
   "metadata": {},
   "outputs": [
    {
     "name": "stdout",
     "output_type": "stream",
     "text": [
      "the number of adopted users are - 1439\n"
     ]
    }
   ],
   "source": [
    "# Extracting the adopted users\n",
    "df1['time_stamp'] = pd.to_datetime(df1.time_stamp)\n",
    "df1 = df1.set_index('time_stamp')\n",
    "adopted_user =df1.groupby(['user_id',pd.TimeGrouper('7D')]).count() \n",
    "adopted_user = adopted_user[adopted_user.visited >=3]\n",
    "print ('the number of adopted users are -' ,len(adopted_user.reset_index().user_id.unique()))\n",
    "adopted_user_list = adopted_user.reset_index().user_id.unique()\n",
    "\n",
    "\n"
   ]
  },
  {
   "cell_type": "code",
   "execution_count": 327,
   "metadata": {
    "collapsed": true
   },
   "outputs": [],
   "source": [
    "# Combining the adopted user list with the main file. The purpose to combine is that we will get a new column called label\n",
    "# if label is true, it is an adopted user and vice versa"
   ]
  },
  {
   "cell_type": "code",
   "execution_count": 328,
   "metadata": {},
   "outputs": [],
   "source": [
    "#df.loc[df['column_name'].isin(some_values)]\n",
    "df2['label'] = df2['object_id'].isin(adopted_user_list)"
   ]
  },
  {
   "cell_type": "markdown",
   "metadata": {},
   "source": [
    "checking the column names"
   ]
  },
  {
   "cell_type": "code",
   "execution_count": 329,
   "metadata": {},
   "outputs": [
    {
     "data": {
      "text/plain": [
       "Index(['object_id', 'creation_time', 'name', 'email', 'creation_source',\n",
       "       'last_session_creation_time', 'opted_in_to_mailing_list',\n",
       "       'enabled_for_marketing_drip', 'org_id', 'invited_by_user_id', 'label'],\n",
       "      dtype='object')"
      ]
     },
     "execution_count": 329,
     "metadata": {},
     "output_type": "execute_result"
    }
   ],
   "source": [
    "df2.columns"
   ]
  },
  {
   "cell_type": "markdown",
   "metadata": {},
   "source": [
    "Looking on the column names, we do not require some of the features, they do not add any value to our feature space. Those features\n",
    "are-              \n",
    "1) creation_time    \n",
    "2) name     \n",
    "3) email     \n",
    "4) last session creation time      \n",
    "\n",
    "Hence, removing all these columns."
   ]
  },
  {
   "cell_type": "code",
   "execution_count": 330,
   "metadata": {},
   "outputs": [
    {
     "data": {
      "text/html": [
       "<div>\n",
       "<style>\n",
       "    .dataframe thead tr:only-child th {\n",
       "        text-align: right;\n",
       "    }\n",
       "\n",
       "    .dataframe thead th {\n",
       "        text-align: left;\n",
       "    }\n",
       "\n",
       "    .dataframe tbody tr th {\n",
       "        vertical-align: top;\n",
       "    }\n",
       "</style>\n",
       "<table border=\"1\" class=\"dataframe\">\n",
       "  <thead>\n",
       "    <tr style=\"text-align: right;\">\n",
       "      <th></th>\n",
       "      <th>object_id</th>\n",
       "      <th>creation_source</th>\n",
       "      <th>opted_in_to_mailing_list</th>\n",
       "      <th>enabled_for_marketing_drip</th>\n",
       "      <th>org_id</th>\n",
       "      <th>invited_by_user_id</th>\n",
       "      <th>label</th>\n",
       "    </tr>\n",
       "  </thead>\n",
       "  <tbody>\n",
       "    <tr>\n",
       "      <th>0</th>\n",
       "      <td>1</td>\n",
       "      <td>GUEST_INVITE</td>\n",
       "      <td>1</td>\n",
       "      <td>0</td>\n",
       "      <td>11</td>\n",
       "      <td>10803.0</td>\n",
       "      <td>False</td>\n",
       "    </tr>\n",
       "    <tr>\n",
       "      <th>1</th>\n",
       "      <td>2</td>\n",
       "      <td>ORG_INVITE</td>\n",
       "      <td>0</td>\n",
       "      <td>0</td>\n",
       "      <td>1</td>\n",
       "      <td>316.0</td>\n",
       "      <td>True</td>\n",
       "    </tr>\n",
       "    <tr>\n",
       "      <th>2</th>\n",
       "      <td>3</td>\n",
       "      <td>ORG_INVITE</td>\n",
       "      <td>0</td>\n",
       "      <td>0</td>\n",
       "      <td>94</td>\n",
       "      <td>1525.0</td>\n",
       "      <td>False</td>\n",
       "    </tr>\n",
       "    <tr>\n",
       "      <th>3</th>\n",
       "      <td>4</td>\n",
       "      <td>GUEST_INVITE</td>\n",
       "      <td>0</td>\n",
       "      <td>0</td>\n",
       "      <td>1</td>\n",
       "      <td>5151.0</td>\n",
       "      <td>False</td>\n",
       "    </tr>\n",
       "    <tr>\n",
       "      <th>4</th>\n",
       "      <td>5</td>\n",
       "      <td>GUEST_INVITE</td>\n",
       "      <td>0</td>\n",
       "      <td>0</td>\n",
       "      <td>193</td>\n",
       "      <td>5240.0</td>\n",
       "      <td>False</td>\n",
       "    </tr>\n",
       "    <tr>\n",
       "      <th>5</th>\n",
       "      <td>6</td>\n",
       "      <td>GUEST_INVITE</td>\n",
       "      <td>0</td>\n",
       "      <td>0</td>\n",
       "      <td>197</td>\n",
       "      <td>11241.0</td>\n",
       "      <td>False</td>\n",
       "    </tr>\n",
       "    <tr>\n",
       "      <th>6</th>\n",
       "      <td>7</td>\n",
       "      <td>SIGNUP</td>\n",
       "      <td>0</td>\n",
       "      <td>1</td>\n",
       "      <td>37</td>\n",
       "      <td>NaN</td>\n",
       "      <td>False</td>\n",
       "    </tr>\n",
       "    <tr>\n",
       "      <th>7</th>\n",
       "      <td>8</td>\n",
       "      <td>PERSONAL_PROJECTS</td>\n",
       "      <td>1</td>\n",
       "      <td>1</td>\n",
       "      <td>74</td>\n",
       "      <td>NaN</td>\n",
       "      <td>False</td>\n",
       "    </tr>\n",
       "    <tr>\n",
       "      <th>8</th>\n",
       "      <td>9</td>\n",
       "      <td>PERSONAL_PROJECTS</td>\n",
       "      <td>0</td>\n",
       "      <td>0</td>\n",
       "      <td>302</td>\n",
       "      <td>NaN</td>\n",
       "      <td>False</td>\n",
       "    </tr>\n",
       "    <tr>\n",
       "      <th>9</th>\n",
       "      <td>10</td>\n",
       "      <td>ORG_INVITE</td>\n",
       "      <td>1</td>\n",
       "      <td>1</td>\n",
       "      <td>318</td>\n",
       "      <td>4143.0</td>\n",
       "      <td>True</td>\n",
       "    </tr>\n",
       "    <tr>\n",
       "      <th>10</th>\n",
       "      <td>11</td>\n",
       "      <td>SIGNUP</td>\n",
       "      <td>0</td>\n",
       "      <td>0</td>\n",
       "      <td>69</td>\n",
       "      <td>NaN</td>\n",
       "      <td>False</td>\n",
       "    </tr>\n",
       "    <tr>\n",
       "      <th>11</th>\n",
       "      <td>12</td>\n",
       "      <td>ORG_INVITE</td>\n",
       "      <td>0</td>\n",
       "      <td>0</td>\n",
       "      <td>130</td>\n",
       "      <td>9270.0</td>\n",
       "      <td>False</td>\n",
       "    </tr>\n",
       "    <tr>\n",
       "      <th>12</th>\n",
       "      <td>13</td>\n",
       "      <td>ORG_INVITE</td>\n",
       "      <td>0</td>\n",
       "      <td>0</td>\n",
       "      <td>254</td>\n",
       "      <td>11204.0</td>\n",
       "      <td>False</td>\n",
       "    </tr>\n",
       "    <tr>\n",
       "      <th>13</th>\n",
       "      <td>14</td>\n",
       "      <td>SIGNUP</td>\n",
       "      <td>0</td>\n",
       "      <td>0</td>\n",
       "      <td>0</td>\n",
       "      <td>NaN</td>\n",
       "      <td>False</td>\n",
       "    </tr>\n",
       "    <tr>\n",
       "      <th>14</th>\n",
       "      <td>15</td>\n",
       "      <td>PERSONAL_PROJECTS</td>\n",
       "      <td>0</td>\n",
       "      <td>0</td>\n",
       "      <td>175</td>\n",
       "      <td>NaN</td>\n",
       "      <td>False</td>\n",
       "    </tr>\n",
       "    <tr>\n",
       "      <th>15</th>\n",
       "      <td>16</td>\n",
       "      <td>PERSONAL_PROJECTS</td>\n",
       "      <td>0</td>\n",
       "      <td>0</td>\n",
       "      <td>211</td>\n",
       "      <td>NaN</td>\n",
       "      <td>False</td>\n",
       "    </tr>\n",
       "    <tr>\n",
       "      <th>16</th>\n",
       "      <td>17</td>\n",
       "      <td>GUEST_INVITE</td>\n",
       "      <td>1</td>\n",
       "      <td>0</td>\n",
       "      <td>175</td>\n",
       "      <td>1600.0</td>\n",
       "      <td>False</td>\n",
       "    </tr>\n",
       "    <tr>\n",
       "      <th>17</th>\n",
       "      <td>18</td>\n",
       "      <td>GUEST_INVITE</td>\n",
       "      <td>0</td>\n",
       "      <td>0</td>\n",
       "      <td>2</td>\n",
       "      <td>3153.0</td>\n",
       "      <td>False</td>\n",
       "    </tr>\n",
       "    <tr>\n",
       "      <th>18</th>\n",
       "      <td>19</td>\n",
       "      <td>SIGNUP</td>\n",
       "      <td>1</td>\n",
       "      <td>0</td>\n",
       "      <td>0</td>\n",
       "      <td>NaN</td>\n",
       "      <td>False</td>\n",
       "    </tr>\n",
       "    <tr>\n",
       "      <th>19</th>\n",
       "      <td>20</td>\n",
       "      <td>SIGNUP</td>\n",
       "      <td>0</td>\n",
       "      <td>0</td>\n",
       "      <td>58</td>\n",
       "      <td>NaN</td>\n",
       "      <td>False</td>\n",
       "    </tr>\n",
       "  </tbody>\n",
       "</table>\n",
       "</div>"
      ],
      "text/plain": [
       "    object_id    creation_source  opted_in_to_mailing_list  \\\n",
       "0           1       GUEST_INVITE                         1   \n",
       "1           2         ORG_INVITE                         0   \n",
       "2           3         ORG_INVITE                         0   \n",
       "3           4       GUEST_INVITE                         0   \n",
       "4           5       GUEST_INVITE                         0   \n",
       "5           6       GUEST_INVITE                         0   \n",
       "6           7             SIGNUP                         0   \n",
       "7           8  PERSONAL_PROJECTS                         1   \n",
       "8           9  PERSONAL_PROJECTS                         0   \n",
       "9          10         ORG_INVITE                         1   \n",
       "10         11             SIGNUP                         0   \n",
       "11         12         ORG_INVITE                         0   \n",
       "12         13         ORG_INVITE                         0   \n",
       "13         14             SIGNUP                         0   \n",
       "14         15  PERSONAL_PROJECTS                         0   \n",
       "15         16  PERSONAL_PROJECTS                         0   \n",
       "16         17       GUEST_INVITE                         1   \n",
       "17         18       GUEST_INVITE                         0   \n",
       "18         19             SIGNUP                         1   \n",
       "19         20             SIGNUP                         0   \n",
       "\n",
       "    enabled_for_marketing_drip  org_id  invited_by_user_id  label  \n",
       "0                            0      11             10803.0  False  \n",
       "1                            0       1               316.0   True  \n",
       "2                            0      94              1525.0  False  \n",
       "3                            0       1              5151.0  False  \n",
       "4                            0     193              5240.0  False  \n",
       "5                            0     197             11241.0  False  \n",
       "6                            1      37                 NaN  False  \n",
       "7                            1      74                 NaN  False  \n",
       "8                            0     302                 NaN  False  \n",
       "9                            1     318              4143.0   True  \n",
       "10                           0      69                 NaN  False  \n",
       "11                           0     130              9270.0  False  \n",
       "12                           0     254             11204.0  False  \n",
       "13                           0       0                 NaN  False  \n",
       "14                           0     175                 NaN  False  \n",
       "15                           0     211                 NaN  False  \n",
       "16                           0     175              1600.0  False  \n",
       "17                           0       2              3153.0  False  \n",
       "18                           0       0                 NaN  False  \n",
       "19                           0      58                 NaN  False  "
      ]
     },
     "execution_count": 330,
     "metadata": {},
     "output_type": "execute_result"
    }
   ],
   "source": [
    "df2 = df2.drop(['creation_time', 'name', 'email','last_session_creation_time'], axis =1)\n",
    "df2.head(20)"
   ]
  },
  {
   "cell_type": "markdown",
   "metadata": {},
   "source": [
    "The data looks more clean now and ready to analyze"
   ]
  },
  {
   "cell_type": "markdown",
   "metadata": {},
   "source": [
    "# Impact of feature \"opted_in_to_mailing_list\""
   ]
  },
  {
   "cell_type": "code",
   "execution_count": 331,
   "metadata": {
    "collapsed": true
   },
   "outputs": [],
   "source": [
    "df_adopted = df2[df2.label == True]\n",
    "df_nonadopted = df2[df2.label == False]"
   ]
  },
  {
   "cell_type": "code",
   "execution_count": 332,
   "metadata": {},
   "outputs": [
    {
     "name": "stdout",
     "output_type": "stream",
     "text": [
      "Pecentage of users Engaged who signed up for mailing list 0.256428075052\n"
     ]
    }
   ],
   "source": [
    "print('Pecentage of users Engaged who signed up for mailing list', \n",
    "      df_adopted.opted_in_to_mailing_list.sum()/len(df_adopted))"
   ]
  },
  {
   "cell_type": "code",
   "execution_count": 333,
   "metadata": {},
   "outputs": [
    {
     "name": "stdout",
     "output_type": "stream",
     "text": [
      "Pecentage of users NOT Engaged who signed up for mailing list 0.248556007954\n"
     ]
    }
   ],
   "source": [
    "print('Pecentage of users NOT Engaged who signed up for mailing list', \n",
    "        df_nonadopted.opted_in_to_mailing_list.sum()/len(df_nonadopted))"
   ]
  },
  {
   "cell_type": "markdown",
   "metadata": {},
   "source": [
    "Both groups have same percenatge, so it does not have much impact"
   ]
  },
  {
   "cell_type": "markdown",
   "metadata": {},
   "source": [
    "# Impact of feature \"enabled_for_marketing_drip\""
   ]
  },
  {
   "cell_type": "code",
   "execution_count": 334,
   "metadata": {},
   "outputs": [
    {
     "name": "stdout",
     "output_type": "stream",
     "text": [
      "Pecentage of users Engaged who signed up for marketing drip 0.152189020153\n"
     ]
    }
   ],
   "source": [
    "print('Pecentage of users Engaged who signed up for marketing drip', \n",
    "    df_adopted.enabled_for_marketing_drip.sum()/len(df_adopted))"
   ]
  },
  {
   "cell_type": "code",
   "execution_count": 335,
   "metadata": {},
   "outputs": [
    {
     "name": "stdout",
     "output_type": "stream",
     "text": [
      "Pecentage of users NOT Engaged who signed up for marketing drip 0.148944228766\n"
     ]
    }
   ],
   "source": [
    "print('Pecentage of users NOT Engaged who signed up for marketing drip', \n",
    "        df_nonadopted.enabled_for_marketing_drip.sum()/len(df_nonadopted))"
   ]
  },
  {
   "cell_type": "markdown",
   "metadata": {},
   "source": [
    "Both groups have same percenatge, so it does not have much impact"
   ]
  },
  {
   "cell_type": "markdown",
   "metadata": {},
   "source": [
    "# Impact of feature \"creation_source\""
   ]
  },
  {
   "cell_type": "code",
   "execution_count": 336,
   "metadata": {},
   "outputs": [
    {
     "name": "stdout",
     "output_type": "stream",
     "text": [
      "The adopted group\n",
      "ORG_INVITE            0.346769\n",
      "GUEST_INVITE          0.228631\n",
      "SIGNUP                0.187630\n",
      "SIGNUP_GOOGLE_AUTH    0.141070\n",
      "PERSONAL_PROJECTS     0.095900\n",
      "Name: creation_source, dtype: float64\n"
     ]
    }
   ],
   "source": [
    "print('The adopted group')\n",
    "print(df_adopted.creation_source.value_counts()/len(df_adopted))"
   ]
  },
  {
   "cell_type": "code",
   "execution_count": 337,
   "metadata": {},
   "outputs": [
    {
     "name": "stdout",
     "output_type": "stream",
     "text": [
      "The NON adopted group\n"
     ]
    },
    {
     "data": {
      "text/plain": [
       "ORG_INVITE            0.355553\n",
       "PERSONAL_PROJECTS     0.186819\n",
       "GUEST_INVITE          0.173658\n",
       "SIGNUP                0.172048\n",
       "SIGNUP_GOOGLE_AUTH    0.111921\n",
       "Name: creation_source, dtype: float64"
      ]
     },
     "execution_count": 337,
     "metadata": {},
     "output_type": "execute_result"
    }
   ],
   "source": [
    "print('The NON adopted group')\n",
    "df_nonadopted.creation_source.value_counts()/len(df_nonadopted)"
   ]
  },
  {
   "cell_type": "markdown",
   "metadata": {},
   "source": [
    "From here we can see that GUEST_INVITE might play a major role in engagement. We will verify this in next section"
   ]
  },
  {
   "cell_type": "markdown",
   "metadata": {},
   "source": [
    "# Let's see if an organization has an impact on engagement"
   ]
  },
  {
   "cell_type": "code",
   "execution_count": 338,
   "metadata": {},
   "outputs": [
    {
     "data": {
      "text/plain": [
       "7      0.011119\n",
       "1      0.009729\n",
       "4      0.009729\n",
       "9      0.009034\n",
       "2      0.009034\n",
       "3      0.009034\n",
       "13     0.008339\n",
       "62     0.007644\n",
       "24     0.006949\n",
       "0      0.006949\n",
       "5      0.006949\n",
       "10     0.006254\n",
       "8      0.006254\n",
       "44     0.006254\n",
       "34     0.005559\n",
       "63     0.005559\n",
       "82     0.005559\n",
       "58     0.005559\n",
       "52     0.005559\n",
       "218    0.005559\n",
       "33     0.005559\n",
       "20     0.005559\n",
       "15     0.005559\n",
       "6      0.005559\n",
       "31     0.005559\n",
       "11     0.005559\n",
       "61     0.004864\n",
       "35     0.004864\n",
       "117    0.004864\n",
       "16     0.004864\n",
       "         ...   \n",
       "367    0.000695\n",
       "294    0.000695\n",
       "197    0.000695\n",
       "111    0.000695\n",
       "125    0.000695\n",
       "137    0.000695\n",
       "143    0.000695\n",
       "101    0.000695\n",
       "153    0.000695\n",
       "154    0.000695\n",
       "158    0.000695\n",
       "164    0.000695\n",
       "351    0.000695\n",
       "87     0.000695\n",
       "86     0.000695\n",
       "373    0.000695\n",
       "276    0.000695\n",
       "376    0.000695\n",
       "204    0.000695\n",
       "220    0.000695\n",
       "223    0.000695\n",
       "227    0.000695\n",
       "229    0.000695\n",
       "384    0.000695\n",
       "244    0.000695\n",
       "51     0.000695\n",
       "253    0.000695\n",
       "354    0.000695\n",
       "272    0.000695\n",
       "239    0.000695\n",
       "Name: org_id, Length: 395, dtype: float64"
      ]
     },
     "execution_count": 338,
     "metadata": {},
     "output_type": "execute_result"
    }
   ],
   "source": [
    "(df_adopted.org_id.value_counts()/len(df_adopted))"
   ]
  },
  {
   "cell_type": "code",
   "execution_count": 339,
   "metadata": {},
   "outputs": [
    {
     "data": {
      "text/plain": [
       "0      0.029259\n",
       "1      0.020737\n",
       "2      0.017801\n",
       "3      0.014677\n",
       "4      0.013730\n",
       "6      0.012309\n",
       "5      0.011173\n",
       "9      0.010510\n",
       "7      0.009753\n",
       "10     0.008995\n",
       "8      0.008333\n",
       "14     0.007859\n",
       "17     0.006533\n",
       "12     0.006533\n",
       "18     0.006439\n",
       "11     0.006344\n",
       "16     0.006155\n",
       "20     0.005681\n",
       "13     0.005681\n",
       "28     0.005492\n",
       "23     0.005303\n",
       "15     0.005303\n",
       "25     0.005303\n",
       "30     0.005208\n",
       "22     0.005208\n",
       "24     0.005018\n",
       "21     0.004924\n",
       "40     0.004829\n",
       "26     0.004829\n",
       "27     0.004734\n",
       "         ...   \n",
       "295    0.000947\n",
       "392    0.000947\n",
       "301    0.000947\n",
       "381    0.000947\n",
       "265    0.000947\n",
       "405    0.000947\n",
       "232    0.000947\n",
       "415    0.000947\n",
       "407    0.000947\n",
       "355    0.000852\n",
       "396    0.000852\n",
       "345    0.000852\n",
       "305    0.000852\n",
       "294    0.000852\n",
       "356    0.000852\n",
       "364    0.000758\n",
       "378    0.000758\n",
       "270    0.000758\n",
       "304    0.000758\n",
       "315    0.000758\n",
       "353    0.000758\n",
       "399    0.000758\n",
       "397    0.000663\n",
       "352    0.000663\n",
       "235    0.000663\n",
       "386    0.000663\n",
       "387    0.000568\n",
       "395    0.000568\n",
       "400    0.000473\n",
       "416    0.000189\n",
       "Name: org_id, Length: 417, dtype: float64"
      ]
     },
     "execution_count": 339,
     "metadata": {},
     "output_type": "execute_result"
    }
   ],
   "source": [
    "df_nonadopted.org_id.value_counts()/len(df_nonadopted)"
   ]
  },
  {
   "cell_type": "markdown",
   "metadata": {},
   "source": [
    "# Implementing a Random Forest Classifer to see the most important features"
   ]
  },
  {
   "cell_type": "code",
   "execution_count": 340,
   "metadata": {},
   "outputs": [],
   "source": [
    "from sklearn.ensemble import RandomForestClassifier\n",
    "import numpy as np\n",
    "# Converting categorical to dummy variables\n",
    "temp = df2.creation_source\n",
    "encoding = pd.get_dummies(temp)\n",
    "df2 = pd.concat([df2, encoding], axis=1, join_axes=[df2.index])\n"
   ]
  },
  {
   "cell_type": "code",
   "execution_count": 341,
   "metadata": {},
   "outputs": [
    {
     "data": {
      "text/html": [
       "<div>\n",
       "<style>\n",
       "    .dataframe thead tr:only-child th {\n",
       "        text-align: right;\n",
       "    }\n",
       "\n",
       "    .dataframe thead th {\n",
       "        text-align: left;\n",
       "    }\n",
       "\n",
       "    .dataframe tbody tr th {\n",
       "        vertical-align: top;\n",
       "    }\n",
       "</style>\n",
       "<table border=\"1\" class=\"dataframe\">\n",
       "  <thead>\n",
       "    <tr style=\"text-align: right;\">\n",
       "      <th></th>\n",
       "      <th>opted_in_to_mailing_list</th>\n",
       "      <th>enabled_for_marketing_drip</th>\n",
       "      <th>GUEST_INVITE</th>\n",
       "      <th>ORG_INVITE</th>\n",
       "      <th>PERSONAL_PROJECTS</th>\n",
       "      <th>SIGNUP</th>\n",
       "      <th>SIGNUP_GOOGLE_AUTH</th>\n",
       "    </tr>\n",
       "  </thead>\n",
       "  <tbody>\n",
       "    <tr>\n",
       "      <th>0</th>\n",
       "      <td>1</td>\n",
       "      <td>0</td>\n",
       "      <td>1</td>\n",
       "      <td>0</td>\n",
       "      <td>0</td>\n",
       "      <td>0</td>\n",
       "      <td>0</td>\n",
       "    </tr>\n",
       "    <tr>\n",
       "      <th>1</th>\n",
       "      <td>0</td>\n",
       "      <td>0</td>\n",
       "      <td>0</td>\n",
       "      <td>1</td>\n",
       "      <td>0</td>\n",
       "      <td>0</td>\n",
       "      <td>0</td>\n",
       "    </tr>\n",
       "    <tr>\n",
       "      <th>2</th>\n",
       "      <td>0</td>\n",
       "      <td>0</td>\n",
       "      <td>0</td>\n",
       "      <td>1</td>\n",
       "      <td>0</td>\n",
       "      <td>0</td>\n",
       "      <td>0</td>\n",
       "    </tr>\n",
       "    <tr>\n",
       "      <th>3</th>\n",
       "      <td>0</td>\n",
       "      <td>0</td>\n",
       "      <td>1</td>\n",
       "      <td>0</td>\n",
       "      <td>0</td>\n",
       "      <td>0</td>\n",
       "      <td>0</td>\n",
       "    </tr>\n",
       "    <tr>\n",
       "      <th>4</th>\n",
       "      <td>0</td>\n",
       "      <td>0</td>\n",
       "      <td>1</td>\n",
       "      <td>0</td>\n",
       "      <td>0</td>\n",
       "      <td>0</td>\n",
       "      <td>0</td>\n",
       "    </tr>\n",
       "  </tbody>\n",
       "</table>\n",
       "</div>"
      ],
      "text/plain": [
       "   opted_in_to_mailing_list  enabled_for_marketing_drip  GUEST_INVITE  \\\n",
       "0                         1                           0             1   \n",
       "1                         0                           0             0   \n",
       "2                         0                           0             0   \n",
       "3                         0                           0             1   \n",
       "4                         0                           0             1   \n",
       "\n",
       "   ORG_INVITE  PERSONAL_PROJECTS  SIGNUP  SIGNUP_GOOGLE_AUTH  \n",
       "0           0                  0       0                   0  \n",
       "1           1                  0       0                   0  \n",
       "2           1                  0       0                   0  \n",
       "3           0                  0       0                   0  \n",
       "4           0                  0       0                   0  "
      ]
     },
     "execution_count": 341,
     "metadata": {},
     "output_type": "execute_result"
    }
   ],
   "source": [
    "target = df2.label\n",
    "df2 = df2.drop(['org_id','invited_by_user_id','creation_source','label','object_id'], axis = 1)\n",
    "df2.head()"
   ]
  },
  {
   "cell_type": "code",
   "execution_count": 352,
   "metadata": {},
   "outputs": [
    {
     "data": {
      "text/plain": [
       "array([ 0.07617328,  0.04559856,  0.11097564,  0.0872925 ,  0.50123671,\n",
       "        0.05242398,  0.12629931])"
      ]
     },
     "execution_count": 352,
     "metadata": {},
     "output_type": "execute_result"
    }
   ],
   "source": [
    "# implementing a random forest classifier\n",
    "rfc = RandomForestClassifier()\n",
    "rfc.fit(df2.values, target)\n",
    "\n",
    "important_features = rfc.feature_importances_\n",
    "important_features"
   ]
  },
  {
   "cell_type": "code",
   "execution_count": 353,
   "metadata": {},
   "outputs": [
    {
     "name": "stdout",
     "output_type": "stream",
     "text": [
      "The most important features are -\n",
      "Feature name  opted_in_to_mailing_list , importance -  0.0761732835566\n",
      "Feature name  enabled_for_marketing_drip , importance -  0.045598561532\n",
      "Feature name  GUEST_INVITE , importance -  0.110975642559\n",
      "Feature name  ORG_INVITE , importance -  0.0872925041879\n",
      "Feature name  PERSONAL_PROJECTS , importance -  0.501236714514\n",
      "Feature name  SIGNUP , importance -  0.0524239804648\n",
      "Feature name  SIGNUP_GOOGLE_AUTH , importance -  0.126299313185\n"
     ]
    }
   ],
   "source": [
    "columns = df2.columns\n",
    "print('The most important features are -')\n",
    "i =0\n",
    "for each in columns:\n",
    "    print('Feature name ', each, ', importance - ',important_features[i] )\n",
    "    i =i+1"
   ]
  },
  {
   "cell_type": "markdown",
   "metadata": {},
   "source": [
    "As we can see from the above analyses that the most important features are 'Personal projects' and 'Guest Invite'"
   ]
  },
  {
   "cell_type": "code",
   "execution_count": null,
   "metadata": {
    "collapsed": true
   },
   "outputs": [],
   "source": []
  }
 ],
 "metadata": {
  "kernelspec": {
   "display_name": "Python 3",
   "language": "python",
   "name": "python3"
  },
  "language_info": {
   "codemirror_mode": {
    "name": "ipython",
    "version": 3
   },
   "file_extension": ".py",
   "mimetype": "text/x-python",
   "name": "python",
   "nbconvert_exporter": "python",
   "pygments_lexer": "ipython3",
   "version": "3.5.3"
  }
 },
 "nbformat": 4,
 "nbformat_minor": 2
}
