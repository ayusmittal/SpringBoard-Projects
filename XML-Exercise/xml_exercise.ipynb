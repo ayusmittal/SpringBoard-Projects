{
 "cells": [
  {
   "cell_type": "markdown",
   "metadata": {},
   "source": [
    "# XML example and exercise\n",
    "****\n",
    "+ study examples of accessing nodes in XML tree structure  \n",
    "+ work on exercise to be completed and submitted\n",
    "****\n",
    "+ reference: https://docs.python.org/2.7/library/xml.etree.elementtree.html\n",
    "+ data source: http://www.dbis.informatik.uni-goettingen.de/Mondial\n",
    "****"
   ]
  },
  {
   "cell_type": "code",
   "execution_count": 4,
   "metadata": {
    "collapsed": true
   },
   "outputs": [],
   "source": [
    "from xml.etree import ElementTree as ET"
   ]
  },
  {
   "cell_type": "markdown",
   "metadata": {},
   "source": [
    "## XML example\n",
    "\n",
    "+ for details about tree traversal and iterators, see https://docs.python.org/2.7/library/xml.etree.elementtree.html"
   ]
  },
  {
   "cell_type": "code",
   "execution_count": 5,
   "metadata": {
    "collapsed": false
   },
   "outputs": [],
   "source": [
    "document_tree = ET.parse( 'data/mondial_database_less.xml' )"
   ]
  },
  {
   "cell_type": "code",
   "execution_count": 13,
   "metadata": {
    "collapsed": false
   },
   "outputs": [
    {
     "name": "stdout",
     "output_type": "stream",
     "text": [
      "Albania\n",
      "Greece\n",
      "Macedonia\n",
      "Serbia\n",
      "Montenegro\n",
      "Kosovo\n",
      "Andorra\n"
     ]
    }
   ],
   "source": [
    "# print names of all countries\n",
    "for child in document_tree.getroot():\n",
    "    print child.find('name').text\n",
    "    #print child.find('infant_mortality').text"
   ]
  },
  {
   "cell_type": "code",
   "execution_count": 7,
   "metadata": {
    "collapsed": false
   },
   "outputs": [
    {
     "name": "stdout",
     "output_type": "stream",
     "text": [
      "* Albania: Tirana, Shkodër, Durrës, Vlorë, Elbasan, Korçë\n",
      "* Greece: Komotini, Kavala, Athina, Peiraias, Peristeri, Acharnes, Patra, Kozani, Kerkyra, Ioannina, Thessaloniki, Iraklio, Chania, Ermoupoli, Rhodes, Tripoli, Lamia, Chalkida, Larissa, Volos, Mytilini, Karyes\n",
      "* Macedonia: Skopje, Kumanovo\n",
      "* Serbia: Beograd, Novi Sad, Niš\n",
      "* Montenegro: Podgorica\n",
      "* Kosovo: Prishtine\n",
      "* Andorra: Andorra la Vella\n"
     ]
    }
   ],
   "source": [
    "# print names of all countries and their cities\n",
    "for element in document_tree.iterfind('country'):\n",
    "    print '* ' + element.find('name').text + ':',\n",
    "    capitals_string = ''\n",
    "    for subelement in element.getiterator('city'):\n",
    "        capitals_string += subelement.find('name').text + ', '\n",
    "    print capitals_string[:-2]"
   ]
  },
  {
   "cell_type": "markdown",
   "metadata": {},
   "source": [
    "****\n",
    "## XML exercise\n",
    "\n",
    "Using data in 'data/mondial_database.xml', the examples above, and refering to https://docs.python.org/2.7/library/xml.etree.elementtree.html, find\n",
    "\n",
    "1. 10 countries with the lowest infant mortality rates\n",
    "2. 10 cities with the largest population\n",
    "3. 10 ethnic groups with the largest overall populations (sum of best/latest estimates over all countries)\n",
    "4. name and country of a) longest river, b) largest lake and c) airport at highest elevation"
   ]
  },
  {
   "cell_type": "code",
   "execution_count": 5,
   "metadata": {
    "collapsed": true
   },
   "outputs": [],
   "source": [
    "from xml.etree import ElementTree as ET\n",
    "import pandas as pd\n",
    "document = ET.parse( './data/mondial_database.xml' )\n",
    "document_root = document.getroot()"
   ]
  },
  {
   "cell_type": "code",
   "execution_count": 19,
   "metadata": {
    "collapsed": false
   },
   "outputs": [
    {
     "name": "stdout",
     "output_type": "stream",
     "text": [
      "Top 10 countries with lowest infant mortality rate\n"
     ]
    },
    {
     "data": {
      "text/html": [
       "<div>\n",
       "<table border=\"1\" class=\"dataframe\">\n",
       "  <thead>\n",
       "    <tr style=\"text-align: right;\">\n",
       "      <th></th>\n",
       "      <th>country</th>\n",
       "      <th>infantMortality</th>\n",
       "    </tr>\n",
       "  </thead>\n",
       "  <tbody>\n",
       "    <tr>\n",
       "      <th>36</th>\n",
       "      <td>Monaco</td>\n",
       "      <td>1.81</td>\n",
       "    </tr>\n",
       "    <tr>\n",
       "      <th>90</th>\n",
       "      <td>Japan</td>\n",
       "      <td>2.13</td>\n",
       "    </tr>\n",
       "    <tr>\n",
       "      <th>109</th>\n",
       "      <td>Bermuda</td>\n",
       "      <td>2.48</td>\n",
       "    </tr>\n",
       "    <tr>\n",
       "      <th>34</th>\n",
       "      <td>Norway</td>\n",
       "      <td>2.48</td>\n",
       "    </tr>\n",
       "    <tr>\n",
       "      <th>98</th>\n",
       "      <td>Singapore</td>\n",
       "      <td>2.53</td>\n",
       "    </tr>\n",
       "    <tr>\n",
       "      <th>35</th>\n",
       "      <td>Sweden</td>\n",
       "      <td>2.60</td>\n",
       "    </tr>\n",
       "    <tr>\n",
       "      <th>8</th>\n",
       "      <td>Czech Republic</td>\n",
       "      <td>2.63</td>\n",
       "    </tr>\n",
       "    <tr>\n",
       "      <th>72</th>\n",
       "      <td>Hong Kong</td>\n",
       "      <td>2.73</td>\n",
       "    </tr>\n",
       "    <tr>\n",
       "      <th>73</th>\n",
       "      <td>Macao</td>\n",
       "      <td>3.13</td>\n",
       "    </tr>\n",
       "    <tr>\n",
       "      <th>39</th>\n",
       "      <td>Iceland</td>\n",
       "      <td>3.15</td>\n",
       "    </tr>\n",
       "  </tbody>\n",
       "</table>\n",
       "</div>"
      ],
      "text/plain": [
       "            country  infantMortality\n",
       "36           Monaco             1.81\n",
       "90            Japan             2.13\n",
       "109         Bermuda             2.48\n",
       "34           Norway             2.48\n",
       "98        Singapore             2.53\n",
       "35           Sweden             2.60\n",
       "8    Czech Republic             2.63\n",
       "72        Hong Kong             2.73\n",
       "73            Macao             3.13\n",
       "39          Iceland             3.15"
      ]
     },
     "execution_count": 19,
     "metadata": {},
     "output_type": "execute_result"
    }
   ],
   "source": [
    "# 10 Countries with the lowest infant mortality rate \n",
    "df_country_imr = pd.DataFrame(columns=[\"country\", \"infantMortality\"])\n",
    "\n",
    "for country in document.getiterator(\"country\"):\n",
    "    country_name = country.find(\"name\").text\n",
    "    if country.find(\"infant_mortality\") is not None:\n",
    "        imr = country.find(\"infant_mortality\").text\n",
    "        df_country_imr = df_country_imr.append(\n",
    "            {\n",
    "                \"country\": country_name,\n",
    "                \"infantMortality\": imr\n",
    "            }, ignore_index=True)\n",
    "        \n",
    "df_country_imr[\"infantMortality\"] = pd.to_numeric(df_country_imr[\"infantMortality\"])\n",
    "print 'Top 10 countries with lowest infant mortality rate'\n",
    "df_country_imr.sort_values('infantMortality').head(10)"
   ]
  },
  {
   "cell_type": "code",
   "execution_count": 10,
   "metadata": {
    "collapsed": false
   },
   "outputs": [
    {
     "data": {
      "text/html": [
       "<div>\n",
       "<table border=\"1\" class=\"dataframe\">\n",
       "  <thead>\n",
       "    <tr style=\"text-align: right;\">\n",
       "      <th></th>\n",
       "      <th>city</th>\n",
       "      <th>year</th>\n",
       "      <th>population</th>\n",
       "    </tr>\n",
       "  </thead>\n",
       "  <tbody>\n",
       "    <tr>\n",
       "      <th>0</th>\n",
       "      <td>Tirana</td>\n",
       "      <td>1987</td>\n",
       "      <td>192000</td>\n",
       "    </tr>\n",
       "    <tr>\n",
       "      <th>1</th>\n",
       "      <td>Tirana</td>\n",
       "      <td>1990</td>\n",
       "      <td>244153</td>\n",
       "    </tr>\n",
       "    <tr>\n",
       "      <th>2</th>\n",
       "      <td>Tirana</td>\n",
       "      <td>2011</td>\n",
       "      <td>418495</td>\n",
       "    </tr>\n",
       "    <tr>\n",
       "      <th>3</th>\n",
       "      <td>Shkodër</td>\n",
       "      <td>1987</td>\n",
       "      <td>62000</td>\n",
       "    </tr>\n",
       "    <tr>\n",
       "      <th>4</th>\n",
       "      <td>Shkodër</td>\n",
       "      <td>2011</td>\n",
       "      <td>77075</td>\n",
       "    </tr>\n",
       "  </tbody>\n",
       "</table>\n",
       "</div>"
      ],
      "text/plain": [
       "      city  year population\n",
       "0   Tirana  1987     192000\n",
       "1   Tirana  1990     244153\n",
       "2   Tirana  2011     418495\n",
       "3  Shkodër  1987      62000\n",
       "4  Shkodër  2011      77075"
      ]
     },
     "execution_count": 10,
     "metadata": {},
     "output_type": "execute_result"
    }
   ],
   "source": [
    "# Top 10 cities with the largest population\n",
    "# dataframe for the population measurement with year and country \n",
    "df_city_pop = pd.DataFrame(columns=[\"city\", \"year\", \"population\"])\n",
    "for country in document_root.getiterator(\"country\"):\n",
    "    for city in country.iter(\"city\"):\n",
    "        city_name = city.find(\"name\").text\n",
    "# if population is not none and given in the file it reads the population        \n",
    "        if city.findall(\"population\") is not None:\n",
    "            for pop in city.findall(\"population\"):\n",
    "                year = pop.attrib[\"year\"]\n",
    "                population = pop.text\n",
    "# Append the information to the data frame            \n",
    "                df_city_pop = df_city_pop.append(\n",
    "                {\n",
    "                    \"city\": city_name,\n",
    "                    \"year\": year,\n",
    "                    \"population\": population\n",
    "                }, ignore_index=True)\n",
    "        \n",
    "        \n",
    "            \n",
    "# check the data by displaying it\n",
    "df_city_pop.head()\n",
    "\n"
   ]
  },
  {
   "cell_type": "code",
   "execution_count": 18,
   "metadata": {
    "collapsed": false
   },
   "outputs": [
    {
     "name": "stdout",
     "output_type": "stream",
     "text": [
      "10 cities with largest population\n"
     ]
    },
    {
     "data": {
      "text/html": [
       "<div>\n",
       "<table border=\"1\" class=\"dataframe\">\n",
       "  <thead>\n",
       "    <tr style=\"text-align: right;\">\n",
       "      <th></th>\n",
       "      <th>city</th>\n",
       "      <th>year</th>\n",
       "      <th>population</th>\n",
       "    </tr>\n",
       "  </thead>\n",
       "  <tbody>\n",
       "    <tr>\n",
       "      <th>3750</th>\n",
       "      <td>Shanghai</td>\n",
       "      <td>2010</td>\n",
       "      <td>22315474.0</td>\n",
       "    </tr>\n",
       "    <tr>\n",
       "      <th>2607</th>\n",
       "      <td>Istanbul</td>\n",
       "      <td>2012</td>\n",
       "      <td>13710512.0</td>\n",
       "    </tr>\n",
       "    <tr>\n",
       "      <th>4303</th>\n",
       "      <td>Mumbai</td>\n",
       "      <td>2011</td>\n",
       "      <td>12442373.0</td>\n",
       "    </tr>\n",
       "    <tr>\n",
       "      <th>1546</th>\n",
       "      <td>Moskva</td>\n",
       "      <td>2013</td>\n",
       "      <td>11979529.0</td>\n",
       "    </tr>\n",
       "    <tr>\n",
       "      <th>3746</th>\n",
       "      <td>Beijing</td>\n",
       "      <td>2010</td>\n",
       "      <td>11716620.0</td>\n",
       "    </tr>\n",
       "    <tr>\n",
       "      <th>8208</th>\n",
       "      <td>São Paulo</td>\n",
       "      <td>2010</td>\n",
       "      <td>11152344.0</td>\n",
       "    </tr>\n",
       "    <tr>\n",
       "      <th>3754</th>\n",
       "      <td>Tianjin</td>\n",
       "      <td>2010</td>\n",
       "      <td>11090314.0</td>\n",
       "    </tr>\n",
       "    <tr>\n",
       "      <th>3364</th>\n",
       "      <td>Guangzhou</td>\n",
       "      <td>2010</td>\n",
       "      <td>11071424.0</td>\n",
       "    </tr>\n",
       "    <tr>\n",
       "      <th>4399</th>\n",
       "      <td>Delhi</td>\n",
       "      <td>2011</td>\n",
       "      <td>11034555.0</td>\n",
       "    </tr>\n",
       "    <tr>\n",
       "      <th>3371</th>\n",
       "      <td>Shenzhen</td>\n",
       "      <td>2010</td>\n",
       "      <td>10358381.0</td>\n",
       "    </tr>\n",
       "  </tbody>\n",
       "</table>\n",
       "</div>"
      ],
      "text/plain": [
       "           city  year  population\n",
       "3750   Shanghai  2010  22315474.0\n",
       "2607   Istanbul  2012  13710512.0\n",
       "4303     Mumbai  2011  12442373.0\n",
       "1546     Moskva  2013  11979529.0\n",
       "3746    Beijing  2010  11716620.0\n",
       "8208  São Paulo  2010  11152344.0\n",
       "3754    Tianjin  2010  11090314.0\n",
       "3364  Guangzhou  2010  11071424.0\n",
       "4399      Delhi  2011  11034555.0\n",
       "3371   Shenzhen  2010  10358381.0"
      ]
     },
     "execution_count": 18,
     "metadata": {},
     "output_type": "execute_result"
    }
   ],
   "source": [
    "# make a copy of dataframe to save it for changes\n",
    "df_city_pop_c = df_city_pop.copy()\n",
    "\n",
    "# dataframe for the latest population measurement with year and city \n",
    "df_latest_city_pop = pd.DataFrame(columns=[\"city\", \"year\", \"population\"])\n",
    "\n",
    "# change population column to numeric\n",
    "df_city_pop_c[\"population\"] = pd.to_numeric(df_city_pop_c[\"population\"])\n",
    "\n",
    "# select all unique cities\n",
    "cities = df_city_pop[\"city\"].unique()\n",
    "\n",
    "# assamble all cities with latest population measurement in one dataframe\n",
    "for city in cities:\n",
    "    city_pop = df_city_pop_c[df_city_pop_c.city == city]\n",
    "    latest_measurement = city_pop[city_pop[\"year\"] == city_pop[\"year\"].max()]\n",
    "    df_latest_city_pop = df_latest_city_pop.append(latest_measurement)\n",
    "\n",
    "# sort values by population in descending order and take the first 10 elements\n",
    "print '10 cities with largest population'\n",
    "df_latest_city_pop.sort_values(\"population\", ascending=False)[0:10]\n"
   ]
  },
  {
   "cell_type": "code",
   "execution_count": 54,
   "metadata": {
    "collapsed": false
   },
   "outputs": [
    {
     "name": "stdout",
     "output_type": "stream",
     "text": [
      "Top 10 Ethnic Groups\n"
     ]
    },
    {
     "data": {
      "text/html": [
       "<div>\n",
       "<table border=\"1\" class=\"dataframe\">\n",
       "  <thead>\n",
       "    <tr style=\"text-align: right;\">\n",
       "      <th></th>\n",
       "      <th>population</th>\n",
       "    </tr>\n",
       "    <tr>\n",
       "      <th>Ethnic</th>\n",
       "      <th></th>\n",
       "    </tr>\n",
       "  </thead>\n",
       "  <tbody>\n",
       "    <tr>\n",
       "      <th>Han Chinese</th>\n",
       "      <td>1.245059e+09</td>\n",
       "    </tr>\n",
       "    <tr>\n",
       "      <th>Indo-Aryan</th>\n",
       "      <td>8.718156e+08</td>\n",
       "    </tr>\n",
       "    <tr>\n",
       "      <th>European</th>\n",
       "      <td>4.948722e+08</td>\n",
       "    </tr>\n",
       "    <tr>\n",
       "      <th>African</th>\n",
       "      <td>3.183251e+08</td>\n",
       "    </tr>\n",
       "    <tr>\n",
       "      <th>Dravidian</th>\n",
       "      <td>3.027137e+08</td>\n",
       "    </tr>\n",
       "    <tr>\n",
       "      <th>Mestizo</th>\n",
       "      <td>1.577344e+08</td>\n",
       "    </tr>\n",
       "    <tr>\n",
       "      <th>Bengali</th>\n",
       "      <td>1.467769e+08</td>\n",
       "    </tr>\n",
       "    <tr>\n",
       "      <th>Russian</th>\n",
       "      <td>1.318570e+08</td>\n",
       "    </tr>\n",
       "    <tr>\n",
       "      <th>Japanese</th>\n",
       "      <td>1.265342e+08</td>\n",
       "    </tr>\n",
       "    <tr>\n",
       "      <th>Malay</th>\n",
       "      <td>1.219936e+08</td>\n",
       "    </tr>\n",
       "  </tbody>\n",
       "</table>\n",
       "</div>"
      ],
      "text/plain": [
       "               population\n",
       "Ethnic                   \n",
       "Han Chinese  1.245059e+09\n",
       "Indo-Aryan   8.718156e+08\n",
       "European     4.948722e+08\n",
       "African      3.183251e+08\n",
       "Dravidian    3.027137e+08\n",
       "Mestizo      1.577344e+08\n",
       "Bengali      1.467769e+08\n",
       "Russian      1.318570e+08\n",
       "Japanese     1.265342e+08\n",
       "Malay        1.219936e+08"
      ]
     },
     "execution_count": 54,
     "metadata": {},
     "output_type": "execute_result"
    }
   ],
   "source": [
    "## Finding the top 10 ethnic groups\n",
    "# to solve this, first we need to get the latest population for each country\n",
    "# After that extract the ethich group names and percentage from each country and calculate the actual values\n",
    "df_country_pop = pd.DataFrame(columns=[\"country\", \"year\", \"population\"])\n",
    "df_ethnic_group = pd.DataFrame(columns=[\"Ethnic\",\"population\"])\n",
    "for country in document_root.getiterator(\"country\"):\n",
    "    country_name = country.find(\"name\").text\n",
    "    \n",
    "# if population is not none and given in the file it reads the population        \n",
    "    if country.findall(\"population\") is not None:\n",
    "        for pop in country.findall(\"population\"):\n",
    "            year = pop.attrib[\"year\"]\n",
    "            population = pop.text\n",
    "# Append the information to the data frame            \n",
    "            df_country_pop = df_country_pop.append(\n",
    "            {\n",
    "                \"country\": country_name,\n",
    "                \"year\": year,\n",
    "                \"population\": population\n",
    "            }, ignore_index=True)\n",
    "    if country.findall(\"ethnicgroup\") is not None:\n",
    "        for perc in country.findall(\"ethnicgroup\"):\n",
    "            percentage = pd.to_numeric(perc.attrib[\"percentage\"])\n",
    "            ethnicgroup = perc.text\n",
    "            ethnicpopulation = ((percentage*100.0)/10000)*(pd.to_numeric(df_country_pop['population'].iloc[-1]))\n",
    "            df_ethnic_group = df_ethnic_group.append({\"Ethnic\": ethnicgroup, \"population\":ethnicpopulation}, ignore_index=True)\n",
    "            \n",
    "\n",
    "print 'Top 10 Ethnic Groups'\n",
    "df_ethnic_group.groupby(['Ethnic']).sum().sort_values(['population'], ascending = False).head(10)\n",
    "\n",
    "\n",
    "    \n"
   ]
  },
  {
   "cell_type": "code",
   "execution_count": 16,
   "metadata": {
    "collapsed": false
   },
   "outputs": [
    {
     "name": "stdout",
     "output_type": "stream",
     "text": [
      "The longest River\n"
     ]
    },
    {
     "data": {
      "text/html": [
       "<div>\n",
       "<table border=\"1\" class=\"dataframe\">\n",
       "  <thead>\n",
       "    <tr style=\"text-align: right;\">\n",
       "      <th></th>\n",
       "      <th>river</th>\n",
       "      <th>country</th>\n",
       "      <th>length</th>\n",
       "    </tr>\n",
       "  </thead>\n",
       "  <tbody>\n",
       "    <tr>\n",
       "      <th>174</th>\n",
       "      <td>Amazonas</td>\n",
       "      <td>PE</td>\n",
       "      <td>6448.0</td>\n",
       "    </tr>\n",
       "  </tbody>\n",
       "</table>\n",
       "</div>"
      ],
      "text/plain": [
       "        river country  length\n",
       "174  Amazonas      PE  6448.0"
      ]
     },
     "execution_count": 16,
     "metadata": {},
     "output_type": "execute_result"
    }
   ],
   "source": [
    "## Name of the longest river, largest lake and the airport at highest evelation\n",
    "# Working to get the longest river\n",
    "# Declaring a new data frame\n",
    "df_river = pd.DataFrame(columns = ['river', 'country','length'])\n",
    "\n",
    "# running a loop to get the source country of river and its length\n",
    "for river in document_root.getiterator('river'):\n",
    "    riverName = river.find('name').text\n",
    "    country = river.find('source').get('country')\n",
    "    if river.find('length') is not None:\n",
    "        length = river.find('length').text\n",
    "    else:\n",
    "        length = '0'\n",
    "    df_river = df_river.append({'river': riverName, 'country':country, 'length':length},ignore_index = True)\n",
    "\n",
    "# converting the column into numeric so it can be sorted    \n",
    "df_river['length'] = pd.to_numeric(df_river['length'])\n",
    "print 'The longest River'\n",
    "df_river.sort_values('length', ascending = False).head(1)\n",
    "    "
   ]
  },
  {
   "cell_type": "code",
   "execution_count": 17,
   "metadata": {
    "collapsed": false
   },
   "outputs": [
    {
     "name": "stdout",
     "output_type": "stream",
     "text": [
      "Lake with largest Area\n"
     ]
    },
    {
     "data": {
      "text/html": [
       "<div>\n",
       "<table border=\"1\" class=\"dataframe\">\n",
       "  <thead>\n",
       "    <tr style=\"text-align: right;\">\n",
       "      <th></th>\n",
       "      <th>lake</th>\n",
       "      <th>country</th>\n",
       "      <th>area</th>\n",
       "    </tr>\n",
       "  </thead>\n",
       "  <tbody>\n",
       "    <tr>\n",
       "      <th>54</th>\n",
       "      <td>Caspian Sea</td>\n",
       "      <td>R AZ KAZ IR TM</td>\n",
       "      <td>386400.0</td>\n",
       "    </tr>\n",
       "  </tbody>\n",
       "</table>\n",
       "</div>"
      ],
      "text/plain": [
       "           lake         country      area\n",
       "54  Caspian Sea  R AZ KAZ IR TM  386400.0"
      ]
     },
     "execution_count": 17,
     "metadata": {},
     "output_type": "execute_result"
    }
   ],
   "source": [
    "## Working to get the largest Lake\n",
    "# defining a data frame for the lake\n",
    "df_lake =  pd.DataFrame(columns = ['lake', 'country', 'area'])\n",
    "\n",
    "# running a loop to get the location of lake and it's area\n",
    "for lake in document_root.getiterator('lake'):\n",
    "    lakeName = lake.find('name').text\n",
    "    country = lake.get('country')\n",
    "# if area is not present entering value as 0\n",
    "    if lake.find('area') is not None:\n",
    "        area = lake.find('area').text\n",
    "    else:\n",
    "        area = '0'\n",
    "    \n",
    "\n",
    "    df_lake = df_lake.append({'lake': lakeName, 'country':country, 'area':area},ignore_index = True)\n",
    "\n",
    "# converting the column into numeric so it can be sorted   \n",
    "df_lake['area'] = pd.to_numeric(df_lake['area'])\n",
    "print 'Lake with largest Area'\n",
    "df_lake.sort_values('area', ascending = False).head(1)\n",
    "    "
   ]
  },
  {
   "cell_type": "code",
   "execution_count": 15,
   "metadata": {
    "collapsed": false
   },
   "outputs": [
    {
     "name": "stdout",
     "output_type": "stream",
     "text": [
      "Airport with the highest elevation\n"
     ]
    },
    {
     "data": {
      "text/html": [
       "<div>\n",
       "<table border=\"1\" class=\"dataframe\">\n",
       "  <thead>\n",
       "    <tr style=\"text-align: right;\">\n",
       "      <th></th>\n",
       "      <th>airport</th>\n",
       "      <th>country</th>\n",
       "      <th>city</th>\n",
       "      <th>elevation</th>\n",
       "    </tr>\n",
       "  </thead>\n",
       "  <tbody>\n",
       "    <tr>\n",
       "      <th>80</th>\n",
       "      <td>El Alto Intl</td>\n",
       "      <td>BOL</td>\n",
       "      <td>cty-BOL-1</td>\n",
       "      <td>4063.0</td>\n",
       "    </tr>\n",
       "  </tbody>\n",
       "</table>\n",
       "</div>"
      ],
      "text/plain": [
       "         airport country       city  elevation\n",
       "80  El Alto Intl     BOL  cty-BOL-1     4063.0"
      ]
     },
     "execution_count": 15,
     "metadata": {},
     "output_type": "execute_result"
    }
   ],
   "source": [
    "## Working to get the airport with highest elevation\n",
    "# defining a data frame for the airport list\n",
    "df_airport =  pd.DataFrame(columns = ['airport', 'country','city', 'elevation'])\n",
    "for airport in document_root.getiterator('airport'):\n",
    "    airportName = airport.find('name').text\n",
    "    country = airport.get('country')\n",
    "    city = airport.get('city')\n",
    "# if eleveation is not present then entering value as -10\n",
    "    if airport.find('elevation') is not None:\n",
    "        elevation = airport.find('elevation').text\n",
    "    else:\n",
    "        elevation = '-10'\n",
    "    df_airport = df_airport.append({'airport': airportName, 'country':country,'city':city, 'elevation':elevation},ignore_index = True)\n",
    "\n",
    "# converting the column into numeric so it can be sorted    \n",
    "df_airport['elevation'] = pd.to_numeric(df_airport['elevation'])\n",
    "print 'Airport with the highest elevation'\n",
    "df_airport.sort_values('elevation', ascending = False).head(1)\n",
    "\n"
   ]
  },
  {
   "cell_type": "code",
   "execution_count": null,
   "metadata": {
    "collapsed": true
   },
   "outputs": [],
   "source": []
  }
 ],
 "metadata": {
  "kernelspec": {
   "display_name": "Python 2",
   "language": "python",
   "name": "python2"
  },
  "language_info": {
   "codemirror_mode": {
    "name": "ipython",
    "version": 2
   },
   "file_extension": ".py",
   "mimetype": "text/x-python",
   "name": "python",
   "nbconvert_exporter": "python",
   "pygments_lexer": "ipython2",
   "version": "2.7.13"
  }
 },
 "nbformat": 4,
 "nbformat_minor": 0
}
